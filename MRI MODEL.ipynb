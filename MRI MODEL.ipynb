{
  "nbformat": 4,
  "nbformat_minor": 0,
  "metadata": {
    "colab": {
      "provenance": [],
      "gpuType": "T4"
    },
    "kernelspec": {
      "name": "python3",
      "display_name": "Python 3"
    },
    "language_info": {
      "name": "python"
    },
    "accelerator": "GPU"
  },
  "cells": [
    {
      "cell_type": "markdown",
      "source": [
        "Dataset- https://www.kaggle.com/datasets/sartajbhuvaji/brain-tumor-classification-mri"
      ],
      "metadata": {
        "id": "g5LbkI9vDoET"
      }
    },
    {
      "cell_type": "code",
      "source": [
        "!pip install opendatasets\n",
        "import opendatasets as od"
      ],
      "metadata": {
        "colab": {
          "base_uri": "https://localhost:8080/"
        },
        "id": "vJ8yp3nZH9A7",
        "outputId": "0a69f45f-4908-41c8-fdf6-862fc0a6ea93"
      },
      "execution_count": null,
      "outputs": [
        {
          "output_type": "stream",
          "name": "stdout",
          "text": [
            "Collecting opendatasets\n",
            "  Downloading opendatasets-0.1.22-py3-none-any.whl (15 kB)\n",
            "Requirement already satisfied: tqdm in /usr/local/lib/python3.10/dist-packages (from opendatasets) (4.66.1)\n",
            "Requirement already satisfied: kaggle in /usr/local/lib/python3.10/dist-packages (from opendatasets) (1.5.16)\n",
            "Requirement already satisfied: click in /usr/local/lib/python3.10/dist-packages (from opendatasets) (8.1.7)\n",
            "Requirement already satisfied: six>=1.10 in /usr/local/lib/python3.10/dist-packages (from kaggle->opendatasets) (1.16.0)\n",
            "Requirement already satisfied: certifi in /usr/local/lib/python3.10/dist-packages (from kaggle->opendatasets) (2023.11.17)\n",
            "Requirement already satisfied: python-dateutil in /usr/local/lib/python3.10/dist-packages (from kaggle->opendatasets) (2.8.2)\n",
            "Requirement already satisfied: requests in /usr/local/lib/python3.10/dist-packages (from kaggle->opendatasets) (2.31.0)\n",
            "Requirement already satisfied: python-slugify in /usr/local/lib/python3.10/dist-packages (from kaggle->opendatasets) (8.0.3)\n",
            "Requirement already satisfied: urllib3 in /usr/local/lib/python3.10/dist-packages (from kaggle->opendatasets) (2.0.7)\n",
            "Requirement already satisfied: bleach in /usr/local/lib/python3.10/dist-packages (from kaggle->opendatasets) (6.1.0)\n",
            "Requirement already satisfied: webencodings in /usr/local/lib/python3.10/dist-packages (from bleach->kaggle->opendatasets) (0.5.1)\n",
            "Requirement already satisfied: text-unidecode>=1.3 in /usr/local/lib/python3.10/dist-packages (from python-slugify->kaggle->opendatasets) (1.3)\n",
            "Requirement already satisfied: charset-normalizer<4,>=2 in /usr/local/lib/python3.10/dist-packages (from requests->kaggle->opendatasets) (3.3.2)\n",
            "Requirement already satisfied: idna<4,>=2.5 in /usr/local/lib/python3.10/dist-packages (from requests->kaggle->opendatasets) (3.6)\n",
            "Installing collected packages: opendatasets\n",
            "Successfully installed opendatasets-0.1.22\n"
          ]
        }
      ]
    },
    {
      "cell_type": "code",
      "source": [
        "od.download(\"https://www.kaggle.com/datasets/sartajbhuvaji/brain-tumor-classification-mri\")"
      ],
      "metadata": {
        "colab": {
          "base_uri": "https://localhost:8080/"
        },
        "id": "QoZohXUtHhi0",
        "outputId": "a5a36c1f-a9a7-4c36-9d0c-5457a5b2a370"
      },
      "execution_count": null,
      "outputs": [
        {
          "output_type": "stream",
          "name": "stdout",
          "text": [
            "Please provide your Kaggle credentials to download this dataset. Learn more: http://bit.ly/kaggle-creds\n",
            "Your Kaggle username: bhushantaksande\n",
            "Your Kaggle Key: ··········\n",
            "Downloading brain-tumor-classification-mri.zip to ./brain-tumor-classification-mri\n"
          ]
        },
        {
          "output_type": "stream",
          "name": "stderr",
          "text": [
            "100%|██████████| 86.8M/86.8M [00:00<00:00, 108MB/s]\n"
          ]
        },
        {
          "output_type": "stream",
          "name": "stdout",
          "text": [
            "\n"
          ]
        }
      ]
    },
    {
      "cell_type": "code",
      "source": [
        "import os\n",
        "import matplotlib.pyplot as plt\n",
        "import matplotlib.image as mpimg\n",
        "import random\n",
        "import numpy as np\n",
        "from tensorflow import keras\n",
        "from tensorflow.keras.applications.resnet50 import ResNet50, preprocess_input\n",
        "from tensorflow.keras.optimizers import Adam\n",
        "from tensorflow.keras.utils import plot_model\n",
        "from tensorflow.keras.layers import Flatten, Dense,Dropout, Softmax\n",
        "from tensorflow.keras.preprocessing.image import ImageDataGenerator\n",
        "from tensorflow.keras.models import Model, Sequential, load_model\n",
        "from tensorflow.keras.preprocessing import image\n",
        "from glob import glob\n",
        "import warnings\n",
        "warnings.filterwarnings(\"ignore\")\n",
        "%matplotlib inline\n"
      ],
      "metadata": {
        "id": "IieJmtOFMZp9"
      },
      "execution_count": null,
      "outputs": []
    },
    {
      "cell_type": "code",
      "source": [
        "os.listdir('/content/brain-tumor-classification-mri/Training')"
      ],
      "metadata": {
        "colab": {
          "base_uri": "https://localhost:8080/"
        },
        "id": "oJeCMcoxKMrN",
        "outputId": "64382141-2d5d-4cb9-c9c4-57afbe933cdc"
      },
      "execution_count": null,
      "outputs": [
        {
          "output_type": "execute_result",
          "data": {
            "text/plain": [
              "['glioma_tumor', 'pituitary_tumor', 'meningioma_tumor', 'no_tumor']"
            ]
          },
          "metadata": {},
          "execution_count": 5
        }
      ]
    },
    {
      "cell_type": "code",
      "source": [
        "Image_size=[224,224]\n",
        "train_path=\"/content/brain-tumor-classification-mri/Testing/\"\n",
        "test_path=\"/content/brain-tumor-classification-mri/Training/\""
      ],
      "metadata": {
        "id": "Kp6WbaQ3g6e5"
      },
      "execution_count": null,
      "outputs": []
    },
    {
      "cell_type": "code",
      "source": [
        "resnet= ResNet50(include_top= False, input_shape= Image_size+[3], weights='imagenet')"
      ],
      "metadata": {
        "id": "3x4Y3PQjg6bi"
      },
      "execution_count": null,
      "outputs": []
    },
    {
      "cell_type": "code",
      "source": [
        "for layer in resnet.layers:\n",
        "    layer.trainable= False"
      ],
      "metadata": {
        "id": "4ErMMicNg6Yq"
      },
      "execution_count": null,
      "outputs": []
    },
    {
      "cell_type": "code",
      "source": [
        "folders= glob(\"/content/brain-tumor-classification-mri/Testing/*\")"
      ],
      "metadata": {
        "id": "xW-hd5m0g6V6"
      },
      "execution_count": null,
      "outputs": []
    },
    {
      "cell_type": "code",
      "source": [
        "folders"
      ],
      "metadata": {
        "colab": {
          "base_uri": "https://localhost:8080/"
        },
        "id": "5bCExAnUg6Mt",
        "outputId": "31817670-b6eb-45ac-edc2-d2f5cc436eb7"
      },
      "execution_count": null,
      "outputs": [
        {
          "output_type": "execute_result",
          "data": {
            "text/plain": [
              "['/content/brain-tumor-classification-mri/Testing/glioma_tumor',\n",
              " '/content/brain-tumor-classification-mri/Testing/pituitary_tumor',\n",
              " '/content/brain-tumor-classification-mri/Testing/meningioma_tumor',\n",
              " '/content/brain-tumor-classification-mri/Testing/no_tumor']"
            ]
          },
          "metadata": {},
          "execution_count": 30
        }
      ]
    },
    {
      "cell_type": "code",
      "source": [
        "train_folders=glob(\"/content/brain-tumor-classification-mri/Training/*\")"
      ],
      "metadata": {
        "id": "ab5jRDY0hVHK"
      },
      "execution_count": null,
      "outputs": []
    },
    {
      "cell_type": "code",
      "source": [
        "train_folders"
      ],
      "metadata": {
        "colab": {
          "base_uri": "https://localhost:8080/"
        },
        "id": "gVvb05bZhVEl",
        "outputId": "9caec30c-e3ab-4f0b-bbb7-a26621e93498"
      },
      "execution_count": null,
      "outputs": [
        {
          "output_type": "execute_result",
          "data": {
            "text/plain": [
              "['/content/brain-tumor-classification-mri/Training/glioma_tumor',\n",
              " '/content/brain-tumor-classification-mri/Training/pituitary_tumor',\n",
              " '/content/brain-tumor-classification-mri/Training/meningioma_tumor',\n",
              " '/content/brain-tumor-classification-mri/Training/no_tumor']"
            ]
          },
          "metadata": {},
          "execution_count": 36
        }
      ]
    },
    {
      "cell_type": "code",
      "source": [
        "x= Flatten()(resnet.output)\n",
        "prediction= Dense(len(folders), activation='Softmax')(x)\n",
        "model = Model(inputs = resnet.input , outputs = prediction)\n",
        "plot_model(model)\n",
        "model.compile(loss='categorical_crossentropy',optimizer='adam', metrics=['accuracy'] )"
      ],
      "metadata": {
        "id": "6iQe1VYehVCU"
      },
      "execution_count": null,
      "outputs": []
    },
    {
      "cell_type": "code",
      "source": [
        "train_datagen= ImageDataGenerator(rescale= 1./255,\n",
        "                                 shear_range= 0.2,\n",
        "                                 zoom_range= 0.2,\n",
        "                                 horizontal_flip= True,\n",
        "                                 vertical_flip= True,\n",
        "                                width_shift_range=0.2,\n",
        "                                 height_shift_range=0.2)\n",
        "test_datagen= ImageDataGenerator(rescale=1./255)"
      ],
      "metadata": {
        "id": "Jqi8ywXthU_i"
      },
      "execution_count": null,
      "outputs": []
    },
    {
      "cell_type": "code",
      "source": [
        "training_set= train_datagen.flow_from_directory(\"/content/brain-tumor-classification-mri/Training/\", target_size=[224,224], batch_size=32, class_mode='categorical')\n",
        "test_set= train_datagen.flow_from_directory(\"/content/brain-tumor-classification-mri/Testing/\", target_size=[224,224], batch_size=32, class_mode='categorical')"
      ],
      "metadata": {
        "colab": {
          "base_uri": "https://localhost:8080/"
        },
        "id": "0lJxsmzBhU89",
        "outputId": "810ae6c2-70f6-48bf-cd2b-c559897a3bc5"
      },
      "execution_count": null,
      "outputs": [
        {
          "output_type": "stream",
          "name": "stdout",
          "text": [
            "Found 2870 images belonging to 4 classes.\n",
            "Found 394 images belonging to 4 classes.\n"
          ]
        }
      ]
    },
    {
      "cell_type": "code",
      "source": [
        "model.fit(training_set,\n",
        "            validation_data=test_set,\n",
        "            epochs=10,\n",
        "            steps_per_epoch=len(training_set),\n",
        "             validation_steps=len(test_set))"
      ],
      "metadata": {
        "colab": {
          "base_uri": "https://localhost:8080/"
        },
        "id": "LC_2awlohua4",
        "outputId": "ac318637-45e8-43d5-a146-b8fc54ef4768"
      },
      "execution_count": null,
      "outputs": [
        {
          "output_type": "stream",
          "name": "stdout",
          "text": [
            "Epoch 1/10\n",
            "90/90 [==============================] - 55s 576ms/step - loss: 2.5099 - accuracy: 0.3725 - val_loss: 2.9547 - val_accuracy: 0.3325\n",
            "Epoch 2/10\n",
            "90/90 [==============================] - 49s 544ms/step - loss: 1.6245 - accuracy: 0.4289 - val_loss: 4.5422 - val_accuracy: 0.2868\n",
            "Epoch 3/10\n",
            "90/90 [==============================] - 46s 511ms/step - loss: 1.7870 - accuracy: 0.4341 - val_loss: 5.7705 - val_accuracy: 0.2843\n",
            "Epoch 4/10\n",
            "90/90 [==============================] - 46s 507ms/step - loss: 1.6406 - accuracy: 0.4519 - val_loss: 3.5188 - val_accuracy: 0.3198\n",
            "Epoch 5/10\n",
            "90/90 [==============================] - 44s 493ms/step - loss: 1.2888 - accuracy: 0.4875 - val_loss: 3.2736 - val_accuracy: 0.3579\n",
            "Epoch 6/10\n",
            "90/90 [==============================] - 46s 512ms/step - loss: 1.3982 - accuracy: 0.4683 - val_loss: 4.0341 - val_accuracy: 0.3477\n",
            "Epoch 7/10\n",
            "90/90 [==============================] - 45s 498ms/step - loss: 1.3006 - accuracy: 0.5038 - val_loss: 3.6746 - val_accuracy: 0.3477\n",
            "Epoch 8/10\n",
            "90/90 [==============================] - 67s 743ms/step - loss: 1.4284 - accuracy: 0.4822 - val_loss: 3.1019 - val_accuracy: 0.3503\n",
            "Epoch 9/10\n",
            "90/90 [==============================] - 46s 514ms/step - loss: 1.3157 - accuracy: 0.5098 - val_loss: 3.2035 - val_accuracy: 0.4086\n",
            "Epoch 10/10\n",
            "90/90 [==============================] - 51s 565ms/step - loss: 1.3786 - accuracy: 0.4937 - val_loss: 3.7269 - val_accuracy: 0.3477\n"
          ]
        },
        {
          "output_type": "execute_result",
          "data": {
            "text/plain": [
              "<keras.src.callbacks.History at 0x7e0009c22da0>"
            ]
          },
          "metadata": {},
          "execution_count": 40
        }
      ]
    },
    {
      "cell_type": "code",
      "source": [
        "model.save('/content/drive/MyDrive/Bone_tumor/model/')"
      ],
      "metadata": {
        "id": "5UORtrr0huVz"
      },
      "execution_count": null,
      "outputs": []
    },
    {
      "cell_type": "code",
      "source": [
        "plt.plot(history.history['accuracy'])\n",
        "plt.plot(history.history['val_accuracy'])\n",
        "plt.title('Model Accuracy')\n",
        "plt.xlabel('Epoch')\n",
        "plt.ylabel('Accuracy')\n",
        "plt.legend(['Train', 'Validation'], loc='upper left')\n",
        "plt.show()"
      ],
      "metadata": {
        "colab": {
          "base_uri": "https://localhost:8080/",
          "height": 472
        },
        "id": "QEFJ3uwyhuS1",
        "outputId": "72feda1c-8861-4620-fbfa-05ae3e7ef8a7"
      },
      "execution_count": null,
      "outputs": [
        {
          "output_type": "display_data",
          "data": {
            "text/plain": [
              "<Figure size 640x480 with 1 Axes>"
            ],
            "image/png": "[encoded data removed]"
          },
          "metadata": {}
        }
      ]
    },
    {
      "cell_type": "code",
      "source": [
        "# Plot training & validation loss values\n",
        "plt.plot(history.history['loss'])\n",
        "plt.plot(history.history['val_loss'])\n",
        "plt.title('Model Loss')\n",
        "plt.xlabel('Epoch')\n",
        "plt.ylabel('Loss')\n",
        "plt.legend(['Train', 'Validation'], loc='upper left')\n",
        "plt.show()"
      ],
      "metadata": {
        "colab": {
          "base_uri": "https://localhost:8080/",
          "height": 472
        },
        "id": "NP7LlbbkhuP7",
        "outputId": "c4eb112d-e036-4469-9390-6d14918606dc"
      },
      "execution_count": null,
      "outputs": [
        {
          "output_type": "display_data",
          "data": {
            "text/plain": [
              "<Figure size 640x480 with 1 Axes>"
            ],
            "image/png": "[encoded data removed]"
          },
          "metadata": {}
        }
      ]
    },
    {
      "cell_type": "code",
      "source": [
        "# Evaluate the model on the test data\n",
        "test_loss, test_acc = model.evaluate(test_datagen)\n",
        "print(f'Test Accuracy: {test_acc * 100:.2f}%')"
      ],
      "metadata": {
        "colab": {
          "base_uri": "https://localhost:8080/"
        },
        "id": "ybn-sNEtOwU9",
        "outputId": "e0c16b3c-da74-4854-b93e-7a450d504a48"
      },
      "execution_count": null,
      "outputs": [
        {
          "output_type": "stream",
          "name": "stdout",
          "text": [
            "13/13 [==============================] - 1s 101ms/step - loss: 1.2486 - accuracy: 0.7563\n",
            "Test Accuracy: 75.63%\n"
          ]
        }
      ]
    },
    {
      "cell_type": "code",
      "source": [
        "# model1.save('/content/drive/MyDrive/brain_tumor_detector.h5')"
      ],
      "metadata": {
        "id": "026e04iQRYdb"
      },
      "execution_count": null,
      "outputs": []
    },
    {
      "cell_type": "code",
      "source": [],
      "metadata": {
        "id": "1nsmkerTR0TX"
      },
      "execution_count": null,
      "outputs": []
    }
  ]
}